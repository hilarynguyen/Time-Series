{
 "cells": [
  {
   "cell_type": "markdown",
   "id": "ddc1a1e4",
   "metadata": {},
   "source": [
    "## Log and Power Transformations in Practice"
   ]
  },
  {
   "cell_type": "code",
   "execution_count": 18,
   "id": "183f3932",
   "metadata": {},
   "outputs": [],
   "source": [
    "from scipy.optimize import minimize\n",
    "import numpy as np\n",
    "np.random.seed(0)\n",
    "# Setting the random seed to obtain the same set of random number "
   ]
  },
  {
   "cell_type": "code",
   "execution_count": 19,
   "id": "e4577d34",
   "metadata": {},
   "outputs": [],
   "source": [
    "pts = 10000\n",
    "vals = np.random.lognormal(0, 1.0, pts)\n",
    "# generate random numbers from a log-normal distribution "
   ]
  },
  {
   "cell_type": "code",
   "execution_count": 20,
   "id": "f31fa0fe",
   "metadata": {},
   "outputs": [
    {
     "data": {
      "text/plain": [
       "array([0.])"
      ]
     },
     "execution_count": 20,
     "metadata": {},
     "output_type": "execute_result"
    }
   ],
   "source": [
    "from sklearn.preprocessing import StandardScaler\n",
    "from scipy.stats import normaltest\n",
    "scaler = StandardScaler()\n",
    "vals_ss = scaler.fit_transform(vals.reshape(-1,1))\n",
    "f, p = normaltest(vals_ss)\n",
    "p"
   ]
  },
  {
   "cell_type": "markdown",
   "id": "0eb1272b",
   "metadata": {},
   "source": [
    "The null hypothesis of this statistical test is that the sample comes from a normal distribution.\n",
    "p < threshold, reject the null hypothesis => The distribution after apply normaltest does not follow the normal distribution"
   ]
  },
  {
   "cell_type": "code",
   "execution_count": 21,
   "id": "0329d940",
   "metadata": {},
   "outputs": [
    {
     "name": "stdout",
     "output_type": "stream",
     "text": [
      "significance: 0.00\n"
     ]
    }
   ],
   "source": [
    "from sklearn.preprocessing import minmax_scale\n",
    "vals_mm = minmax_scale(vals)\n",
    "_, p = normaltest(vals_mm.squeeze())\n",
    "print(f'significance: {p:.2f}')"
   ]
  },
  {
   "cell_type": "markdown",
   "id": "7504289a",
   "metadata": {},
   "source": [
    "log_transformed = np.log(vals)\n",
    "_,p = normaltest(log_transformed)\n",
    "print(f'significance: {p:.2f}')"
   ]
  },
  {
   "cell_type": "markdown",
   "id": "62ecd999",
   "metadata": {},
   "source": [
    "The significance is 0.46, we can't reject the null hypothesis. The distribution is similar to normal"
   ]
  },
  {
   "cell_type": "code",
   "execution_count": 23,
   "id": "ae278410",
   "metadata": {},
   "outputs": [
    {
     "name": "stdout",
     "output_type": "stream",
     "text": [
      "significance: 0.46\n"
     ]
    }
   ],
   "source": [
    "#Apply Box-Cox transformation\n",
    "from scipy.stats import boxcox\n",
    "vals_bc = boxcox(vals, 0.0)\n",
    "_, p = normaltest(vals_bc)\n",
    "\n",
    "print(f'significance: {p:.2f}')"
   ]
  },
  {
   "cell_type": "markdown",
   "id": "f6398759",
   "metadata": {},
   "source": [
    "## Imputation"
   ]
  },
  {
   "cell_type": "code",
   "execution_count": 26,
   "id": "15afc580",
   "metadata": {},
   "outputs": [
    {
     "name": "stdout",
     "output_type": "stream",
     "text": [
      "[[ 7.   2.   3. ]\n",
      " [ 4.   3.5  6. ]\n",
      " [10.   3.5  9. ]]\n"
     ]
    }
   ],
   "source": [
    "from sklearn.impute import SimpleImputer\n",
    "imp_mean = SimpleImputer(missing_values = np.nan, strategy = 'mean')\n",
    "imp_mean.fit([[7,2,3],[4,np.nan,6],[10,5,9]])\n",
    "# SimpleImputer()\n",
    "df = [[np.nan, 2, 3], [4, np.nan, 6], [10, np.nan, 9]]\n",
    "print(imp_mean.transform(df))"
   ]
  },
  {
   "cell_type": "markdown",
   "id": "f02fdf6a",
   "metadata": {},
   "source": [
    "## Holiday Features"
   ]
  },
  {
   "cell_type": "code",
   "execution_count": 30,
   "id": "ff6a799a",
   "metadata": {},
   "outputs": [
    {
     "name": "stdout",
     "output_type": "stream",
     "text": [
      "Collecting workalendar\n",
      "  Downloading workalendar-17.0.0-py3-none-any.whl (210 kB)\n",
      "Collecting pyluach\n",
      "  Downloading pyluach-2.2.0-py3-none-any.whl (25 kB)\n",
      "Requirement already satisfied: convertdate in c:\\users\\hp\\anaconda3\\lib\\site-packages (from workalendar) (2.4.0)\n",
      "Collecting lunardate\n",
      "  Downloading lunardate-0.2.0-py3-none-any.whl (5.6 kB)\n",
      "Requirement already satisfied: python-dateutil in c:\\users\\hp\\anaconda3\\lib\\site-packages (from workalendar) (2.8.2)\n",
      "Collecting tzdata\n",
      "  Downloading tzdata-2023.3-py2.py3-none-any.whl (341 kB)\n",
      "Requirement already satisfied: pymeeus<=1,>=0.3.13 in c:\\users\\hp\\anaconda3\\lib\\site-packages (from convertdate->workalendar) (0.5.12)\n",
      "Requirement already satisfied: six>=1.5 in c:\\users\\hp\\anaconda3\\lib\\site-packages (from python-dateutil->workalendar) (1.16.0)\n",
      "Installing collected packages: tzdata, pyluach, lunardate, workalendar\n",
      "Successfully installed lunardate-0.2.0 pyluach-2.2.0 tzdata-2023.3 workalendar-17.0.0\n",
      "Note: you may need to restart the kernel to use updated packages.\n"
     ]
    }
   ],
   "source": [
    "pip install workalendar"
   ]
  },
  {
   "cell_type": "code",
   "execution_count": 37,
   "id": "6ee81d5a",
   "metadata": {},
   "outputs": [
    {
     "data": {
      "text/plain": [
       "[(datetime.date(2023, 1, 1), 'New year'),\n",
       " (datetime.date(2023, 1, 2), 'New Year shift'),\n",
       " (datetime.date(2023, 4, 7), 'Good Friday'),\n",
       " (datetime.date(2023, 4, 9), 'Easter Sunday'),\n",
       " (datetime.date(2023, 4, 10), 'Easter Monday'),\n",
       " (datetime.date(2023, 5, 1), 'Early May Bank Holiday'),\n",
       " (datetime.date(2023, 5, 29), 'Spring Bank Holiday'),\n",
       " (datetime.date(2023, 8, 28), 'Late Summer Bank Holiday'),\n",
       " (datetime.date(2023, 12, 25), 'Christmas Day'),\n",
       " (datetime.date(2023, 12, 26), 'Boxing Day')]"
      ]
     },
     "execution_count": 37,
     "metadata": {},
     "output_type": "execute_result"
    }
   ],
   "source": [
    "from workalendar.europe.united_kingdom import UnitedKingdom\n",
    "UnitedKingdom().holidays()"
   ]
  },
  {
   "cell_type": "code",
   "execution_count": 38,
   "id": "dc28b1c6",
   "metadata": {},
   "outputs": [
    {
     "data": {
      "text/plain": [
       "{datetime.date(2023, 1, 1): 'New year',\n",
       " datetime.date(2023, 1, 2): 'New year (Observed)',\n",
       " datetime.date(2023, 1, 16): 'Birthday of Martin Luther King, Jr.',\n",
       " datetime.date(2023, 2, 20): \"Washington's Birthday\",\n",
       " datetime.date(2023, 3, 31): 'Cesar Chavez Day',\n",
       " datetime.date(2023, 5, 29): 'Memorial Day',\n",
       " datetime.date(2023, 7, 4): 'Independence Day',\n",
       " datetime.date(2023, 9, 4): 'Labor Day',\n",
       " datetime.date(2023, 11, 10): 'Veterans Day (Observed)',\n",
       " datetime.date(2023, 11, 11): 'Veterans Day',\n",
       " datetime.date(2023, 11, 23): 'Thanksgiving Day',\n",
       " datetime.date(2023, 11, 24): 'Black Friday',\n",
       " datetime.date(2023, 12, 25): 'Christmas Day'}"
      ]
     },
     "execution_count": 38,
     "metadata": {},
     "output_type": "execute_result"
    }
   ],
   "source": [
    "from typing import List\n",
    "from dateutil.relativedelta import relativedelta, TH \n",
    "import datetime\n",
    "from workalendar.usa import California\n",
    "def create_custom_holidays(year: int)-> List:\n",
    "    custom_holidays = California().holidays()\n",
    "    custom_holidays.append(((datetime.datetime(year, 11, 1) +\n",
    "                           relativedelta(weekday=TH(+4))\n",
    "                           + datetime.timedelta(days=1)).date(),\n",
    "                          'Black Friday'))\n",
    "    # TH(+4): represent the fourth occurence of the specified weekday.\n",
    "    # timedelta(days=1), add one day to the date and time, date() convert to date\n",
    "    return {k: v for (k,v) in custom_holidays}\n",
    "custom_holidays = create_custom_holidays(2023)\n",
    "    \n",
    "custom_holidays"
   ]
  },
  {
   "cell_type": "code",
   "execution_count": 39,
   "id": "a4d7445d",
   "metadata": {},
   "outputs": [
    {
     "data": {
      "text/plain": [
       "False"
      ]
     },
     "execution_count": 39,
     "metadata": {},
     "output_type": "execute_result"
    }
   ],
   "source": [
    "def is_holiday(current_date: datetime.date):\n",
    "    \"\"\"Determine if we have a holiday\"\"\"\n",
    "    return custom_holidays.get(current_date, False)\n",
    "today = datetime.date(2021,4,11)\n",
    "is_holiday(today)"
   ]
  },
  {
   "cell_type": "markdown",
   "id": "0c04ddc9",
   "metadata": {},
   "source": [
    "## Date Annotation"
   ]
  },
  {
   "cell_type": "code",
   "execution_count": 42,
   "id": "4840d3ba",
   "metadata": {},
   "outputs": [
    {
     "data": {
      "text/plain": [
       "(4, 31)"
      ]
     },
     "execution_count": 42,
     "metadata": {},
     "output_type": "execute_result"
    }
   ],
   "source": [
    "import calendar\n",
    "calendar.monthrange(2021,1)\n",
    "#This means the first weekday of 2021 was a Friday, January 2021 had 31 days"
   ]
  },
  {
   "cell_type": "code",
   "execution_count": 43,
   "id": "f56969dd",
   "metadata": {},
   "outputs": [
    {
     "data": {
      "text/plain": [
       "(100, 264)"
      ]
     },
     "execution_count": 43,
     "metadata": {},
     "output_type": "execute_result"
    }
   ],
   "source": [
    "from datetime import date\n",
    "def year_anchor(current_date: datetime.date):\n",
    "    return (\n",
    "    (current_date - date(current_date.year, 1, 1)).days,\n",
    "    (date(current_date.year, 12,31) - current_date).days)\n",
    "year_anchor(today)"
   ]
  },
  {
   "cell_type": "code",
   "execution_count": 45,
   "id": "6907bbfb",
   "metadata": {},
   "outputs": [
    {
     "data": {
      "text/plain": [
       "(10, 8)"
      ]
     },
     "execution_count": 45,
     "metadata": {},
     "output_type": "execute_result"
    }
   ],
   "source": [
    "def month_anchor(current_date: datetime.date):\n",
    "    last_day = calendar.monthrange(current_date.year, current_date.month)[0]\n",
    "    return (\n",
    "    (current_date - datetime.date(current_date.year, current_date.month, 1)).days,\n",
    "        (current_date - datetime.date(current_date.year, current_date.month, last_day)).days)\n",
    "month_anchor(today)"
   ]
  },
  {
   "cell_type": "code",
   "execution_count": 56,
   "id": "505d2d6f",
   "metadata": {},
   "outputs": [
    {
     "data": {
      "text/plain": [
       "(9, 4)"
      ]
     },
     "execution_count": 56,
     "metadata": {},
     "output_type": "execute_result"
    }
   ],
   "source": [
    "month_anchor(datetime.date(2017,1,10))"
   ]
  },
  {
   "cell_type": "code",
   "execution_count": 46,
   "id": "d919bc2f",
   "metadata": {},
   "outputs": [],
   "source": [
    "#Extract the number of days from the first of the month and to the end of the month"
   ]
  },
  {
   "cell_type": "markdown",
   "id": "d78bc699",
   "metadata": {},
   "source": [
    "## Paydays "
   ]
  },
  {
   "cell_type": "code",
   "execution_count": 57,
   "id": "d2760976",
   "metadata": {},
   "outputs": [
    {
     "data": {
      "text/plain": [
       "30"
      ]
     },
     "execution_count": 57,
     "metadata": {},
     "output_type": "execute_result"
    }
   ],
   "source": [
    "def get_last_friday(current_date: datetime.date, weekday = calendar.FRIDAY):\n",
    "    return max(week[weekday]\n",
    "              for week in  calendar.monthcalendar(current_date.year, current_date.month))\n",
    "get_last_friday(today)"
   ]
  },
  {
   "cell_type": "code",
   "execution_count": null,
   "id": "3ac8516d",
   "metadata": {},
   "outputs": [],
   "source": []
  }
 ],
 "metadata": {
  "kernelspec": {
   "display_name": "Python 3 (ipykernel)",
   "language": "python",
   "name": "python3"
  },
  "language_info": {
   "codemirror_mode": {
    "name": "ipython",
    "version": 3
   },
   "file_extension": ".py",
   "mimetype": "text/x-python",
   "name": "python",
   "nbconvert_exporter": "python",
   "pygments_lexer": "ipython3",
   "version": "3.9.12"
  }
 },
 "nbformat": 4,
 "nbformat_minor": 5
}
